{
 "cells": [
  {
   "cell_type": "code",
   "execution_count": 2,
   "metadata": {},
   "outputs": [
    {
     "name": "stdout",
     "output_type": "stream",
     "text": [
      "1 patinhos foram passear além das montanhas para brincar, a mamãe gritou: Quá, quá, quá, quá, mas só 0 voltaram de lá.\n",
      "2 patinhos foram passear além das montanhas para brincar, a mamãe gritou: Quá, quá, quá, quá, mas só 1 voltaram de lá.\n",
      "3 patinhos foram passear além das montanhas para brincar, a mamãe gritou: Quá, quá, quá, quá, mas só 2 voltaram de lá.\n",
      "4 patinhos foram passear além das montanhas para brincar, a mamãe gritou: Quá, quá, quá, quá, mas só 3 voltaram de lá.\n",
      "5 patinhos foram passear além das montanhas para brincar, a mamãe gritou: Quá, quá, quá, quá, mas só 4 voltaram de lá.\n"
     ]
    }
   ],
   "source": [
    "#criando estrutura de repetição para diminuir a quantidade de patinho\n",
    "quantPatinhos = {5,4,3,2,1}\n",
    "for n in quantPatinhos:\n",
    "    print(n, \"patinhos foram passear além das montanhas para brincar, a mamãe gritou: Quá, quá, quá, quá, mas só\", (n-1), \"voltaram de lá.\")"
   ]
  },
  {
   "cell_type": "code",
   "execution_count": 8,
   "metadata": {},
   "outputs": [
    {
     "name": "stdout",
     "output_type": "stream",
     "text": [
      "Mariana conta 1 mariana conta 1 é ana, viva a mariana, viva a mariana\n",
      "Mariana conta 2 mariana conta [1, 2] é ana, viva a mariana, viva a mariana\n",
      "Mariana conta 3 mariana conta [1, 2, 3] é ana, viva a mariana, viva a mariana\n",
      "Mariana conta 4 mariana conta [1, 2, 3, 4] é ana, viva a mariana, viva a mariana\n",
      "Mariana conta 5 mariana conta [1, 2, 3, 4, 5] é ana, viva a mariana, viva a mariana\n",
      "Mariana conta 6 mariana conta [1, 2, 3, 4, 5, 6] é ana, viva a mariana, viva a mariana\n",
      "Mariana conta 7 mariana conta [1, 2, 3, 4, 5, 6, 7] é ana, viva a mariana, viva a mariana\n",
      "Mariana conta 8 mariana conta [1, 2, 3, 4, 5, 6, 7, 8] é ana, viva a mariana, viva a mariana\n",
      "Mariana conta 9 mariana conta [1, 2, 3, 4, 5, 6, 7, 8, 9] é ana, viva a mariana, viva a mariana\n",
      "Mariana conta 10 mariana conta [1, 2, 3, 4, 5, 6, 7, 8, 9, 10] é ana, viva a mariana, viva a mariana\n"
     ]
    }
   ],
   "source": [
    "#criando sequencia para música de Mariana\n",
    "marianaConta = [1,2,3,4,5,6,7,8,9,10]\n",
    "n = 1\n",
    "for n in marianaConta:\n",
    "    if n == 1:\n",
    "        print(\"Mariana conta\", (n), \"mariana conta\", (n), \"é ana, viva a mariana, viva a mariana\")\n",
    "    else:\n",
    "        print(f\"Mariana conta\", (n), \"mariana conta\", marianaConta[0:n], \"é ana, viva a mariana, viva a mariana\")"
   ]
  },
  {
   "cell_type": "code",
   "execution_count": 6,
   "metadata": {},
   "outputs": [
    {
     "name": "stdout",
     "output_type": "stream",
     "text": [
      "1 elefante incomoda muita gente\n",
      "2 elefantes incomodam,incomodam, muito mais\n",
      "3 elefantes incomodam muita gente\n",
      "4 elefantes incomodam,incomodam,incomodam,incomodam, muito mais\n",
      "5 elefantes incomodam muita gente\n",
      "6 elefantes incomodam,incomodam,incomodam,incomodam,incomodam,incomodam, muito mais\n",
      "7 elefantes incomodam muita gente\n",
      "8 elefantes incomodam,incomodam,incomodam,incomodam,incomodam,incomodam,incomodam,incomodam, muito mais\n",
      "9 elefantes incomodam muita gente\n",
      "10 elefantes incomodam,incomodam,incomodam,incomodam,incomodam,incomodam,incomodam,incomodam,incomodam,incomodam, muito mais\n"
     ]
    }
   ],
   "source": [
    "#música do elefante\n",
    "palavra = \"incomodam,\"\n",
    "for e in [1,2,3,4,5,6,7,8,9,10]:\n",
    "    if e == 1:\n",
    "        print(e,\"elefante incomoda muita gente\")\n",
    "    elif e % 2 == 0:\n",
    "        print(e, \"elefantes\", palavra*e, \"muito mais\")\n",
    "    else:\n",
    "        print(e, \"elefantes incomodam muita gente\")\n"
   ]
  }
 ],
 "metadata": {
  "kernelspec": {
   "display_name": "Python 3",
   "language": "python",
   "name": "python3"
  },
  "language_info": {
   "codemirror_mode": {
    "name": "ipython",
    "version": 3
   },
   "file_extension": ".py",
   "mimetype": "text/x-python",
   "name": "python",
   "nbconvert_exporter": "python",
   "pygments_lexer": "ipython3",
   "version": "3.11.9"
  }
 },
 "nbformat": 4,
 "nbformat_minor": 2
}
